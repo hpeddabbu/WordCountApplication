{
 "cells": [
  {
   "cell_type": "code",
   "execution_count": 27,
   "metadata": {},
   "outputs": [
    {
     "data": {
      "text/html": [
       "\n",
       "        <div>\n",
       "            <p><b>SparkContext</b></p>\n",
       "\n",
       "            <p><a href=\"http://10.219.130.166:4040\">Spark UI</a></p>\n",
       "\n",
       "            <dl>\n",
       "              <dt>Version</dt>\n",
       "                <dd><code>v2.2.0</code></dd>\n",
       "              <dt>Master</dt>\n",
       "                <dd><code>local[*]</code></dd>\n",
       "              <dt>AppName</dt>\n",
       "                <dd><code>PySparkShell</code></dd>\n",
       "            </dl>\n",
       "        </div>\n",
       "        "
      ],
      "text/plain": [
       "<SparkContext master=local[*] appName=PySparkShell>"
      ]
     },
     "execution_count": 27,
     "metadata": {},
     "output_type": "execute_result"
    }
   ],
   "source": [
    "sc"
   ]
  },
  {
   "cell_type": "markdown",
   "metadata": {},
   "source": [
    "# Building a word count application\n",
    "The amount of data is increasing rapidly. This code is used to  count the number of repeated words in any textfile.\n",
    "as we know spark is good at analyzing this type of data.This can be apply to any text document."
   ]
  },
  {
   "cell_type": "markdown",
   "metadata": {},
   "source": [
    "# Apply word count to a file\n",
    "In this section we will finish developing our word count application. We'll have to build the\n",
    "wordCount function, deal with real world problems like capitalization and punctuation, load in our\n",
    "data source, and compute the word count on the new data."
   ]
  },
  {
   "cell_type": "markdown",
   "metadata": {},
   "source": [
    "# 1. wordCount function\n",
    "First, define a function for word counting. You should reuse the techniques that have been covered in\n",
    "earlier parts of this assignment. This function should take in an RDD that is a list of words like\n",
    "wordsRDD and return a pair RDD that has all of the words and their associated counts."
   ]
  },
  {
   "cell_type": "code",
   "execution_count": 28,
   "metadata": {},
   "outputs": [
    {
     "name": "stdout",
     "output_type": "stream",
     "text": [
      "[('rat', 2), ('elephant', 1), ('cat', 2)]\n"
     ]
    }
   ],
   "source": [
    "# TODO: Replace <FILL IN> with appropriate code\n",
    "\"\"\"Creates a pair RDD with word counts from an RDD of words.\n",
    "Args:\n",
    "wordListRDD (RDD of str): An RDD consisting of words.\n",
    "Returns:\n",
    "RDD of (str, int): An RDD consisting of (word, count) tuples.\n",
    "#<FILL IN>\n",
    "\"\"\"\n",
    "def wordCount(wordListRDD):\n",
    "    return wordListRDD.map(lambda w : (w, 1)).reduceByKey(lambda a, b : a + b)\n",
    "print wordCount(wordsRDD).collect()"
   ]
  },
  {
   "cell_type": "markdown",
   "metadata": {},
   "source": [
    "# 2.Capitalization and punctuation\n",
    "Declare a function to removepunctuation and change to lower case."
   ]
  },
  {
   "cell_type": "code",
   "execution_count": 29,
   "metadata": {},
   "outputs": [
    {
     "name": "stdout",
     "output_type": "stream",
     "text": [
      "hi you\n"
     ]
    }
   ],
   "source": [
    "# TODO: Replace <FILL IN> with appropriate code\n",
    "\"\"\"Removes punctuation, changes to lower case, and strips leading and trailing spaces.\n",
    "Note:\n",
    "Only spaces, letters, and numbers should be retained. Other characters should be\n",
    "eliminated (e.g. it's becomes its). Leading and trailing spaces should be removed after\n",
    "punctuation is removed.\n",
    "Args:\n",
    "text (str): A string.\n",
    "Returns:\n",
    "str: The cleaned up string.\n",
    "\"\"\"\n",
    "import re\n",
    "def removePunctuation(text):\n",
    "\n",
    "    return re.sub(r'[^A-Za-z0-9 ]',\"\",text).strip().lower()\n",
    "print removePunctuation('Hi, you!')\n"
   ]
  },
  {
   "cell_type": "code",
   "execution_count": 30,
   "metadata": {},
   "outputs": [
    {
     "name": "stdout",
     "output_type": "stream",
     "text": [
      "no underscore\n"
     ]
    }
   ],
   "source": [
    "print removePunctuation(' No under_score!')"
   ]
  },
  {
   "cell_type": "code",
   "execution_count": 31,
   "metadata": {},
   "outputs": [
    {
     "name": "stdout",
     "output_type": "stream",
     "text": [
      "remove punctuation then spaces\n"
     ]
    }
   ],
   "source": [
    "print removePunctuation(' * Remove punctuation then spaces * ')\n"
   ]
  },
  {
   "cell_type": "markdown",
   "metadata": {},
   "source": [
    "# 3.Load Textfile\n",
    "I have taken data set from the Project Gutenberg. I converted the four texbooks and merged them into one textfile \n",
    "and called the textfile using spark context, applied map transformation along with  remove punction function on the file. \n",
    "printed top 15 lines.\n"
   ]
  },
  {
   "cell_type": "code",
   "execution_count": 32,
   "metadata": {},
   "outputs": [
    {
     "name": "stdout",
     "output_type": "stream",
     "text": [
      "0: \n",
      "1: the project gutenberg ebook of the story of gsta berling by selma lagerlf\n",
      "2: \n",
      "3: this ebook is for the use of anyone anywhere in the united states and most\n",
      "4: other parts of the world at no cost and with almost no restrictions\n",
      "5: whatsoever  you may copy it give it away or reuse it under the terms of\n",
      "6: the project gutenberg license included with this ebook or online at\n",
      "7: wwwgutenbergorg  if you are not located in the united states youll have\n",
      "8: to check the laws of the country where you are located before using this ebook\n",
      "9: \n",
      "10: title the story of gsta berling\n",
      "11: \n",
      "12: author selma lagerlf\n",
      "13: \n",
      "14: translator pauline bancroft flach\n"
     ]
    }
   ],
   "source": [
    "# Just run this code\n",
    "fileName = \"projectTextdoc.txt\"\n",
    "shakespeareRDD = (sc.textFile(fileName, 8).map(removePunctuation))\n",
    "print '\\n'.join(shakespeareRDD.zipWithIndex() # to (line, lineNum)\n",
    ".map(lambda (l, num): '{0}: {1}'.format(num, l)) # to 'lineNum: line'\n",
    ".take(15))"
   ]
  },
  {
   "cell_type": "markdown",
   "metadata": {},
   "source": [
    "# 4.Words from lines\n",
    "Before doing actual wordcount, check with the format of RDD. Here we can observe two issues one is words split by spaces\n",
    "and second one is filter out empty lines."
   ]
  },
  {
   "cell_type": "code",
   "execution_count": 33,
   "metadata": {},
   "outputs": [
    {
     "name": "stdout",
     "output_type": "stream",
     "text": [
      "[u'zuccati', u'zest', u'zero', u'zenith', u'zeal']\n"
     ]
    }
   ],
   "source": [
    "shakespeareWordsRDD = shakespeareRDD.flatMap(lambda s : s.split(\" \"))\n",
    "shakespeareWordCount = shakespeareWordsRDD.count()\n",
    "print shakespeareWordsRDD.top(5)\n"
   ]
  },
  {
   "cell_type": "code",
   "execution_count": 34,
   "metadata": {},
   "outputs": [
    {
     "name": "stdout",
     "output_type": "stream",
     "text": [
      "233824\n"
     ]
    }
   ],
   "source": [
    "print shakespeareWordCount"
   ]
  },
  {
   "cell_type": "markdown",
   "metadata": {},
   "source": [
    "# 5.Remove empty elements\n",
    "\n",
    "The next step is to filter out the empty elements. Remove all entries where the word is ' '."
   ]
  },
  {
   "cell_type": "code",
   "execution_count": 35,
   "metadata": {},
   "outputs": [
    {
     "name": "stdout",
     "output_type": "stream",
     "text": [
      "228129\n"
     ]
    }
   ],
   "source": [
    "shakeWordsRDD = shakespeareWordsRDD.filter(lambda a : a)\n",
    "shakeWordCount = shakeWordsRDD.count()\n",
    "print shakeWordCount"
   ]
  },
  {
   "cell_type": "markdown",
   "metadata": {},
   "source": [
    "# 6.Count the words\n",
    "Now count the words. BY Using lambda function just dispalying top 15 which are common and highest count \n",
    "words by takeOrdered action.\n"
   ]
  },
  {
   "cell_type": "code",
   "execution_count": 36,
   "metadata": {},
   "outputs": [
    {
     "name": "stdout",
     "output_type": "stream",
     "text": [
      "the: 14022\n",
      "and: 7281\n",
      "to: 5733\n",
      "of: 5389\n",
      "a: 4508\n",
      "he: 4075\n",
      "in: 3476\n",
      "that: 2754\n",
      "was: 2730\n",
      "it: 2693\n",
      "i: 2663\n",
      "she: 2549\n",
      "had: 2435\n",
      "you: 2377\n",
      "her: 2288\n"
     ]
    }
   ],
   "source": [
    "top15WordsAndCounts = wordCount(shakeWordsRDD).takeOrdered(15, key = lambda (p, q) : - q)\n",
    "print '\\n'.join(map(lambda (w, c): '{0}: {1}'.format(w, c), top15WordsAndCounts))"
   ]
  },
  {
   "cell_type": "code",
   "execution_count": null,
   "metadata": {
    "collapsed": true
   },
   "outputs": [],
   "source": []
  }
 ],
 "metadata": {
  "kernelspec": {
   "display_name": "Python 2",
   "language": "python",
   "name": "python2"
  },
  "language_info": {
   "codemirror_mode": {
    "name": "ipython",
    "version": 2
   },
   "file_extension": ".py",
   "mimetype": "text/x-python",
   "name": "python",
   "nbconvert_exporter": "python",
   "pygments_lexer": "ipython2",
   "version": "2.7.13"
  }
 },
 "nbformat": 4,
 "nbformat_minor": 2
}
